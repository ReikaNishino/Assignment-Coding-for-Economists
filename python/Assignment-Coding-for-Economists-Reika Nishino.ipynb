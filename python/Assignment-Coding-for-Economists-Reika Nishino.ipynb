{
 "cells": [
  {
   "cell_type": "markdown",
   "id": "e6ea0ac9-96cc-4bbb-99de-7f927250759c",
   "metadata": {},
   "source": [
    "# 1. Understand folder structure. Perform operations on files in different folders.\n",
    "\n",
    "I made a folder for this assignment called \"assignment\".\n",
    "This folder is located in \"Desktop/CEU/Fall term/Coding for Economists/assignment\"."
   ]
  },
  {
   "cell_type": "markdown",
   "id": "c4a28467-1e7e-4f84-9ce5-efb3225a566a",
   "metadata": {},
   "source": [
    "# 2. Automate repeating tasks using Python “for” loops."
   ]
  },
  {
   "cell_type": "code",
   "execution_count": 140,
   "id": "51e59b64-586e-4e1d-a1bf-6229ba91069c",
   "metadata": {},
   "outputs": [
    {
     "data": {
      "text/plain": [
       "['91', '91347', '173', '3']"
      ]
     },
     "execution_count": 140,
     "metadata": {},
     "output_type": "execute_result"
    }
   ],
   "source": [
    "a = ['91', '91347', '173', '3']\n",
    "a.sort\n",
    "a"
   ]
  },
  {
   "cell_type": "code",
   "execution_count": 142,
   "id": "9091d766-d85d-4924-9a7d-60f208919aca",
   "metadata": {},
   "outputs": [
    {
     "name": "stdout",
     "output_type": "stream",
     "text": [
      "91\n",
      "91347\n",
      "173\n",
      "3\n"
     ]
    }
   ],
   "source": [
    "for element in a:\n",
    "    print(element)"
   ]
  },
  {
   "cell_type": "markdown",
   "id": "feccb2cc-ffed-4788-957e-284436a06e9a",
   "metadata": {},
   "source": [
    "# 3. Use Python “lists” and “dictionaries” appropriately. Demonstrate one of the two."
   ]
  },
  {
   "cell_type": "code",
   "execution_count": 128,
   "id": "77ab5f02-08c4-4427-baa2-6a5c1711c02d",
   "metadata": {},
   "outputs": [],
   "source": [
    "class_size = {\n",
    "    'public policy': 13,\n",
    "    'economics': 18, \n",
    "    'philosophy': 20\n",
    "}"
   ]
  },
  {
   "cell_type": "code",
   "execution_count": 130,
   "id": "2d68d102-da9f-4494-9ec5-7589bc9d1296",
   "metadata": {},
   "outputs": [
    {
     "name": "stdout",
     "output_type": "stream",
     "text": [
      "<class 'dict'>\n",
      "{'public policy': 13, 'economics': 18, 'philosophy': 20}\n"
     ]
    }
   ],
   "source": [
    "print(type(class_size))\n",
    "print(class_size)"
   ]
  },
  {
   "cell_type": "code",
   "execution_count": 134,
   "id": "d233805f-0e86-4609-bff6-826c53c0c263",
   "metadata": {},
   "outputs": [
    {
     "name": "stdout",
     "output_type": "stream",
     "text": [
      "{'public policy': 13, 'economics': 18, 'philosophy': 20}\n",
      "{'public policy': 13, 'economics': 18, 'philosophy': 20}\n",
      "{'public policy': 13, 'economics': 18, 'philosophy': 20}\n"
     ]
    }
   ],
   "source": [
    "for i in class_size:\n",
    "    print(class_size)"
   ]
  },
  {
   "cell_type": "code",
   "execution_count": 148,
   "id": "40301976-4f5d-4100-bb92-4e4a0288f0fb",
   "metadata": {},
   "outputs": [
    {
     "name": "stdout",
     "output_type": "stream",
     "text": [
      "The number of students in the public policy class is 13 .\n",
      "The number of students in the economics class is 18 .\n",
      "The number of students in the philosophy class is 20 .\n"
     ]
    }
   ],
   "source": [
    "for key, value in class_size.items():\n",
    "    print('The number of students in the', key, 'class is', value, '.')"
   ]
  },
  {
   "cell_type": "code",
   "execution_count": 144,
   "id": "b937bcc2-43d4-488e-b309-50cec4993126",
   "metadata": {},
   "outputs": [
    {
     "name": "stdout",
     "output_type": "stream",
     "text": [
      "public policy\n",
      "economics\n",
      "philosophy\n"
     ]
    }
   ],
   "source": [
    "for key in class_size.keys():\n",
    "    print(key)"
   ]
  },
  {
   "cell_type": "code",
   "execution_count": 150,
   "id": "4eb501a8-84ee-4ea8-9d82-4654a844a430",
   "metadata": {},
   "outputs": [
    {
     "name": "stdout",
     "output_type": "stream",
     "text": [
      "13\n",
      "18\n",
      "20\n"
     ]
    }
   ],
   "source": [
    "for value in class_size.values():\n",
    "    print(value)"
   ]
  },
  {
   "cell_type": "markdown",
   "id": "d2b68721-26ca-471e-abd7-4f3269d38796",
   "metadata": {},
   "source": [
    "# 5. Read .csv data in. Fix common data quality errors (for example, string vs number, missing value).\n",
    "\n",
    "I found I found that \"Name\" column has Garbled text such as \"Anj?\". Thus I made a new column called \"City\" which is fixed the error."
   ]
  },
  {
   "cell_type": "code",
   "execution_count": 155,
   "id": "8a4010da-d5a7-4d56-a25f-95db79c61e63",
   "metadata": {},
   "outputs": [],
   "source": [
    "import pandas as pd\n",
    "import numpy as np\n",
    "import warnings\n",
    "\n",
    "warnings.filterwarnings(\"ignore\")"
   ]
  },
  {
   "cell_type": "code",
   "execution_count": 304,
   "id": "631d58f6-617b-454c-ae31-7bd614faacd6",
   "metadata": {
    "scrolled": true
   },
   "outputs": [],
   "source": [
    "#import data\n",
    "raw_df = pd.read_csv(\"city-size-japan.csv\")"
   ]
  },
  {
   "cell_type": "code",
   "execution_count": 306,
   "id": "63c10db8-7485-4005-9ef3-12a7c1b10cf9",
   "metadata": {},
   "outputs": [
    {
     "data": {
      "text/html": [
       "<div>\n",
       "<style scoped>\n",
       "    .dataframe tbody tr th:only-of-type {\n",
       "        vertical-align: middle;\n",
       "    }\n",
       "\n",
       "    .dataframe tbody tr th {\n",
       "        vertical-align: top;\n",
       "    }\n",
       "\n",
       "    .dataframe thead th {\n",
       "        text-align: right;\n",
       "    }\n",
       "</style>\n",
       "<table border=\"1\" class=\"dataframe\">\n",
       "  <thead>\n",
       "    <tr style=\"text-align: right;\">\n",
       "      <th></th>\n",
       "      <th>Name</th>\n",
       "      <th>pop_1995</th>\n",
       "      <th>pop_2000</th>\n",
       "      <th>pop_2005</th>\n",
       "      <th>pop_2010</th>\n",
       "      <th>pop_2015</th>\n",
       "    </tr>\n",
       "  </thead>\n",
       "  <tbody>\n",
       "    <tr>\n",
       "      <th>0</th>\n",
       "      <td>Ageo</td>\n",
       "      <td>206090</td>\n",
       "      <td>212947</td>\n",
       "      <td>220232</td>\n",
       "      <td>223926</td>\n",
       "      <td>225196</td>\n",
       "    </tr>\n",
       "    <tr>\n",
       "      <th>1</th>\n",
       "      <td>Akashi</td>\n",
       "      <td>287606</td>\n",
       "      <td>293117</td>\n",
       "      <td>291027</td>\n",
       "      <td>290959</td>\n",
       "      <td>293409</td>\n",
       "    </tr>\n",
       "    <tr>\n",
       "      <th>2</th>\n",
       "      <td>Akita</td>\n",
       "      <td>331597</td>\n",
       "      <td>336646</td>\n",
       "      <td>333109</td>\n",
       "      <td>323600</td>\n",
       "      <td>315814</td>\n",
       "    </tr>\n",
       "    <tr>\n",
       "      <th>3</th>\n",
       "      <td>Amagasaki</td>\n",
       "      <td>488586</td>\n",
       "      <td>466187</td>\n",
       "      <td>462647</td>\n",
       "      <td>453748</td>\n",
       "      <td>452563</td>\n",
       "    </tr>\n",
       "    <tr>\n",
       "      <th>4</th>\n",
       "      <td>Anj?</td>\n",
       "      <td>149464</td>\n",
       "      <td>158824</td>\n",
       "      <td>170250</td>\n",
       "      <td>178691</td>\n",
       "      <td>184140</td>\n",
       "    </tr>\n",
       "  </tbody>\n",
       "</table>\n",
       "</div>"
      ],
      "text/plain": [
       "        Name  pop_1995  pop_2000  pop_2005  pop_2010  pop_2015\n",
       "0       Ageo    206090    212947    220232    223926    225196\n",
       "1     Akashi    287606    293117    291027    290959    293409\n",
       "2      Akita    331597    336646    333109    323600    315814\n",
       "3  Amagasaki    488586    466187    462647    453748    452563\n",
       "4       Anj?    149464    158824    170250    178691    184140"
      ]
     },
     "execution_count": 306,
     "metadata": {},
     "output_type": "execute_result"
    }
   ],
   "source": [
    "#look at the data: I found that \"Name\" variable has Garbled text such as \"Anj?\"\n",
    "raw_df.head()"
   ]
  },
  {
   "cell_type": "code",
   "execution_count": 308,
   "id": "ba3fdd7c-c287-4e97-b7b7-890633f082c0",
   "metadata": {},
   "outputs": [
    {
     "name": "stdout",
     "output_type": "stream",
     "text": [
      "<class 'pandas.core.frame.DataFrame'>\n",
      "RangeIndex: 159 entries, 0 to 158\n",
      "Data columns (total 6 columns):\n",
      " #   Column    Non-Null Count  Dtype \n",
      "---  ------    --------------  ----- \n",
      " 0   Name      159 non-null    object\n",
      " 1   pop_1995  159 non-null    int64 \n",
      " 2   pop_2000  159 non-null    int64 \n",
      " 3   pop_2005  159 non-null    int64 \n",
      " 4   pop_2010  159 non-null    int64 \n",
      " 5   pop_2015  159 non-null    int64 \n",
      "dtypes: int64(5), object(1)\n",
      "memory usage: 7.6+ KB\n"
     ]
    }
   ],
   "source": [
    "#look at the data:2\n",
    "raw_df.info()"
   ]
  },
  {
   "cell_type": "code",
   "execution_count": 310,
   "id": "8d4bc2ab-594c-40c3-a840-fd28c265156b",
   "metadata": {},
   "outputs": [],
   "source": [
    "#fix Garbled text in Name column\n",
    "\n",
    "# make City column\n",
    "raw_df['City'] = raw_df['Name']"
   ]
  },
  {
   "cell_type": "code",
   "execution_count": 312,
   "id": "0b3a3b08-3504-42d7-9b8e-3959a445755c",
   "metadata": {},
   "outputs": [],
   "source": [
    "# replace '?' to 'o'\n",
    "raw_df['City'] = raw_df['City'].str.replace('?', 'o')"
   ]
  },
  {
   "cell_type": "code",
   "execution_count": 314,
   "id": "6be09765-506e-4803-98dd-bc099546c72f",
   "metadata": {},
   "outputs": [
    {
     "name": "stdout",
     "output_type": "stream",
     "text": [
      "        Name       City\n",
      "0       Ageo       Ageo\n",
      "1     Akashi     Akashi\n",
      "2      Akita      Akita\n",
      "3  Amagasaki  Amagasaki\n",
      "4       Anj?       Anjo\n"
     ]
    }
   ],
   "source": [
    "print(raw_df[['Name', 'City']].head())"
   ]
  },
  {
   "cell_type": "code",
   "execution_count": 316,
   "id": "466bf6ad-7f9b-4c22-b0f7-9335a932881c",
   "metadata": {},
   "outputs": [],
   "source": [
    "#make a new data frame called \"newdf\". Remove the columns that I do not use.\n",
    "newdf = raw_df.drop(\"Name\",axis='columns')"
   ]
  },
  {
   "cell_type": "code",
   "execution_count": 320,
   "id": "983e3441-3d3b-4ea7-aeca-8d3cfdf73a4f",
   "metadata": {},
   "outputs": [
    {
     "data": {
      "text/html": [
       "<div>\n",
       "<style scoped>\n",
       "    .dataframe tbody tr th:only-of-type {\n",
       "        vertical-align: middle;\n",
       "    }\n",
       "\n",
       "    .dataframe tbody tr th {\n",
       "        vertical-align: top;\n",
       "    }\n",
       "\n",
       "    .dataframe thead th {\n",
       "        text-align: right;\n",
       "    }\n",
       "</style>\n",
       "<table border=\"1\" class=\"dataframe\">\n",
       "  <thead>\n",
       "    <tr style=\"text-align: right;\">\n",
       "      <th></th>\n",
       "      <th>pop_1995</th>\n",
       "      <th>pop_2000</th>\n",
       "      <th>pop_2005</th>\n",
       "      <th>pop_2010</th>\n",
       "      <th>pop_2015</th>\n",
       "      <th>City</th>\n",
       "    </tr>\n",
       "  </thead>\n",
       "  <tbody>\n",
       "    <tr>\n",
       "      <th>0</th>\n",
       "      <td>206090</td>\n",
       "      <td>212947</td>\n",
       "      <td>220232</td>\n",
       "      <td>223926</td>\n",
       "      <td>225196</td>\n",
       "      <td>Ageo</td>\n",
       "    </tr>\n",
       "    <tr>\n",
       "      <th>1</th>\n",
       "      <td>287606</td>\n",
       "      <td>293117</td>\n",
       "      <td>291027</td>\n",
       "      <td>290959</td>\n",
       "      <td>293409</td>\n",
       "      <td>Akashi</td>\n",
       "    </tr>\n",
       "    <tr>\n",
       "      <th>2</th>\n",
       "      <td>331597</td>\n",
       "      <td>336646</td>\n",
       "      <td>333109</td>\n",
       "      <td>323600</td>\n",
       "      <td>315814</td>\n",
       "      <td>Akita</td>\n",
       "    </tr>\n",
       "    <tr>\n",
       "      <th>3</th>\n",
       "      <td>488586</td>\n",
       "      <td>466187</td>\n",
       "      <td>462647</td>\n",
       "      <td>453748</td>\n",
       "      <td>452563</td>\n",
       "      <td>Amagasaki</td>\n",
       "    </tr>\n",
       "    <tr>\n",
       "      <th>4</th>\n",
       "      <td>149464</td>\n",
       "      <td>158824</td>\n",
       "      <td>170250</td>\n",
       "      <td>178691</td>\n",
       "      <td>184140</td>\n",
       "      <td>Anjo</td>\n",
       "    </tr>\n",
       "  </tbody>\n",
       "</table>\n",
       "</div>"
      ],
      "text/plain": [
       "   pop_1995  pop_2000  pop_2005  pop_2010  pop_2015       City\n",
       "0    206090    212947    220232    223926    225196       Ageo\n",
       "1    287606    293117    291027    290959    293409     Akashi\n",
       "2    331597    336646    333109    323600    315814      Akita\n",
       "3    488586    466187    462647    453748    452563  Amagasaki\n",
       "4    149464    158824    170250    178691    184140       Anjo"
      ]
     },
     "execution_count": 320,
     "metadata": {},
     "output_type": "execute_result"
    }
   ],
   "source": [
    "newdf.head()"
   ]
  },
  {
   "cell_type": "code",
   "execution_count": 322,
   "id": "5548a7c3-0971-4d0f-99df-4ce9b852ded1",
   "metadata": {},
   "outputs": [
    {
     "name": "stdout",
     "output_type": "stream",
     "text": [
      "<class 'pandas.core.frame.DataFrame'>\n",
      "RangeIndex: 159 entries, 0 to 158\n",
      "Data columns (total 6 columns):\n",
      " #   Column    Non-Null Count  Dtype \n",
      "---  ------    --------------  ----- \n",
      " 0   pop_1995  159 non-null    int64 \n",
      " 1   pop_2000  159 non-null    int64 \n",
      " 2   pop_2005  159 non-null    int64 \n",
      " 3   pop_2010  159 non-null    int64 \n",
      " 4   pop_2015  159 non-null    int64 \n",
      " 5   City      159 non-null    object\n",
      "dtypes: int64(5), object(1)\n",
      "memory usage: 7.6+ KB\n"
     ]
    }
   ],
   "source": [
    "newdf.info()"
   ]
  },
  {
   "cell_type": "markdown",
   "id": "27e855c6-052e-432e-8dba-9ba8e16f2653",
   "metadata": {},
   "source": [
    "## 6. Prepare a sample for analysis by filtering observations and variables and creating transformations of variables."
   ]
  },
  {
   "cell_type": "code",
   "execution_count": 328,
   "id": "e0680be6-8ba6-4a6b-861e-ef89b7bdac20",
   "metadata": {},
   "outputs": [
    {
     "data": {
      "text/html": [
       "<div>\n",
       "<style scoped>\n",
       "    .dataframe tbody tr th:only-of-type {\n",
       "        vertical-align: middle;\n",
       "    }\n",
       "\n",
       "    .dataframe tbody tr th {\n",
       "        vertical-align: top;\n",
       "    }\n",
       "\n",
       "    .dataframe thead th {\n",
       "        text-align: right;\n",
       "    }\n",
       "</style>\n",
       "<table border=\"1\" class=\"dataframe\">\n",
       "  <thead>\n",
       "    <tr style=\"text-align: right;\">\n",
       "      <th></th>\n",
       "      <th>pop_1995</th>\n",
       "      <th>pop_2000</th>\n",
       "      <th>pop_2005</th>\n",
       "      <th>pop_2010</th>\n",
       "      <th>pop_2015</th>\n",
       "      <th>City</th>\n",
       "    </tr>\n",
       "  </thead>\n",
       "  <tbody>\n",
       "    <tr>\n",
       "      <th>0</th>\n",
       "      <td>206090</td>\n",
       "      <td>212947</td>\n",
       "      <td>220232</td>\n",
       "      <td>223926</td>\n",
       "      <td>225196</td>\n",
       "      <td>Ageo</td>\n",
       "    </tr>\n",
       "    <tr>\n",
       "      <th>1</th>\n",
       "      <td>287606</td>\n",
       "      <td>293117</td>\n",
       "      <td>291027</td>\n",
       "      <td>290959</td>\n",
       "      <td>293409</td>\n",
       "      <td>Akashi</td>\n",
       "    </tr>\n",
       "    <tr>\n",
       "      <th>2</th>\n",
       "      <td>331597</td>\n",
       "      <td>336646</td>\n",
       "      <td>333109</td>\n",
       "      <td>323600</td>\n",
       "      <td>315814</td>\n",
       "      <td>Akita</td>\n",
       "    </tr>\n",
       "    <tr>\n",
       "      <th>3</th>\n",
       "      <td>488586</td>\n",
       "      <td>466187</td>\n",
       "      <td>462647</td>\n",
       "      <td>453748</td>\n",
       "      <td>452563</td>\n",
       "      <td>Amagasaki</td>\n",
       "    </tr>\n",
       "    <tr>\n",
       "      <th>5</th>\n",
       "      <td>314917</td>\n",
       "      <td>318732</td>\n",
       "      <td>311386</td>\n",
       "      <td>299520</td>\n",
       "      <td>287648</td>\n",
       "      <td>Aomori</td>\n",
       "    </tr>\n",
       "    <tr>\n",
       "      <th>...</th>\n",
       "      <td>...</td>\n",
       "      <td>...</td>\n",
       "      <td>...</td>\n",
       "      <td>...</td>\n",
       "      <td>...</td>\n",
       "      <td>...</td>\n",
       "    </tr>\n",
       "    <tr>\n",
       "      <th>154</th>\n",
       "      <td>203933</td>\n",
       "      <td>212761</td>\n",
       "      <td>221220</td>\n",
       "      <td>228186</td>\n",
       "      <td>232922</td>\n",
       "      <td>Yamato</td>\n",
       "    </tr>\n",
       "    <tr>\n",
       "      <th>155</th>\n",
       "      <td>276664</td>\n",
       "      <td>274777</td>\n",
       "      <td>273487</td>\n",
       "      <td>271460</td>\n",
       "      <td>268800</td>\n",
       "      <td>Yao</td>\n",
       "    </tr>\n",
       "    <tr>\n",
       "      <th>156</th>\n",
       "      <td>296623</td>\n",
       "      <td>302102</td>\n",
       "      <td>303845</td>\n",
       "      <td>307766</td>\n",
       "      <td>311031</td>\n",
       "      <td>Yokkaichi</td>\n",
       "    </tr>\n",
       "    <tr>\n",
       "      <th>157</th>\n",
       "      <td>3307136</td>\n",
       "      <td>3426651</td>\n",
       "      <td>3579628</td>\n",
       "      <td>3688773</td>\n",
       "      <td>3724844</td>\n",
       "      <td>Yokohama</td>\n",
       "    </tr>\n",
       "    <tr>\n",
       "      <th>158</th>\n",
       "      <td>432193</td>\n",
       "      <td>428645</td>\n",
       "      <td>426178</td>\n",
       "      <td>418325</td>\n",
       "      <td>406586</td>\n",
       "      <td>Yokosuka</td>\n",
       "    </tr>\n",
       "  </tbody>\n",
       "</table>\n",
       "<p>113 rows × 6 columns</p>\n",
       "</div>"
      ],
      "text/plain": [
       "     pop_1995  pop_2000  pop_2005  pop_2010  pop_2015       City\n",
       "0      206090    212947    220232    223926    225196       Ageo\n",
       "1      287606    293117    291027    290959    293409     Akashi\n",
       "2      331597    336646    333109    323600    315814      Akita\n",
       "3      488586    466187    462647    453748    452563  Amagasaki\n",
       "5      314917    318732    311386    299520    287648     Aomori\n",
       "..        ...       ...       ...       ...       ...        ...\n",
       "154    203933    212761    221220    228186    232922     Yamato\n",
       "155    276664    274777    273487    271460    268800        Yao\n",
       "156    296623    302102    303845    307766    311031  Yokkaichi\n",
       "157   3307136   3426651   3579628   3688773   3724844   Yokohama\n",
       "158    432193    428645    426178    418325    406586   Yokosuka\n",
       "\n",
       "[113 rows x 6 columns]"
      ]
     },
     "execution_count": 328,
     "metadata": {},
     "output_type": "execute_result"
    }
   ],
   "source": [
    "#filtering observations\n",
    "newdf.shape\n",
    "\n",
    "#filtered by Core cities. If the population is more than 200000, its city is called \"Core cities\" in Japan\n",
    "newdf.loc[newdf[\"pop_1995\"] >= 200000 ]"
   ]
  },
  {
   "cell_type": "code",
   "execution_count": 340,
   "id": "5dc831c0-0b11-4a9d-a8f1-65197791c63b",
   "metadata": {},
   "outputs": [
    {
     "name": "stdout",
     "output_type": "stream",
     "text": [
      "pop_2015: 0 missing values\n",
      "pop_2000: 0 missing values\n",
      "pop_2005: 0 missing values\n",
      "pop_2010: 0 missing values\n",
      "pop_2015: 0 missing values\n"
     ]
    }
   ],
   "source": [
    "#filter variables\n",
    "columns = [\"pop_2015\", \"pop_2000\", \"pop_2005\", \"pop_2010\", \"pop_2015\"]\n",
    "\n",
    "#Try to filter with missing value but there is no missing value lol\n",
    "for column in columns:\n",
    "    missing_count = newdf[column].isnull().sum() \n",
    "    print(f\"{column}: {missing_count} missing values\")"
   ]
  },
  {
   "cell_type": "code",
   "execution_count": 344,
   "id": "75bce387-b0b8-4bc3-acfa-c6fb250309fa",
   "metadata": {},
   "outputs": [
    {
     "data": {
      "text/html": [
       "<div>\n",
       "<style scoped>\n",
       "    .dataframe tbody tr th:only-of-type {\n",
       "        vertical-align: middle;\n",
       "    }\n",
       "\n",
       "    .dataframe tbody tr th {\n",
       "        vertical-align: top;\n",
       "    }\n",
       "\n",
       "    .dataframe thead th {\n",
       "        text-align: right;\n",
       "    }\n",
       "</style>\n",
       "<table border=\"1\" class=\"dataframe\">\n",
       "  <thead>\n",
       "    <tr style=\"text-align: right;\">\n",
       "      <th></th>\n",
       "      <th>pop_1995</th>\n",
       "      <th>pop_2000</th>\n",
       "      <th>pop_2005</th>\n",
       "      <th>pop_2010</th>\n",
       "      <th>pop_2015</th>\n",
       "      <th>City</th>\n",
       "    </tr>\n",
       "  </thead>\n",
       "  <tbody>\n",
       "    <tr>\n",
       "      <th>0</th>\n",
       "      <td>206090</td>\n",
       "      <td>212947</td>\n",
       "      <td>220232</td>\n",
       "      <td>223926</td>\n",
       "      <td>225196</td>\n",
       "      <td>Ageo</td>\n",
       "    </tr>\n",
       "    <tr>\n",
       "      <th>1</th>\n",
       "      <td>287606</td>\n",
       "      <td>293117</td>\n",
       "      <td>291027</td>\n",
       "      <td>290959</td>\n",
       "      <td>293409</td>\n",
       "      <td>Akashi</td>\n",
       "    </tr>\n",
       "    <tr>\n",
       "      <th>2</th>\n",
       "      <td>331597</td>\n",
       "      <td>336646</td>\n",
       "      <td>333109</td>\n",
       "      <td>323600</td>\n",
       "      <td>315814</td>\n",
       "      <td>Akita</td>\n",
       "    </tr>\n",
       "    <tr>\n",
       "      <th>3</th>\n",
       "      <td>488586</td>\n",
       "      <td>466187</td>\n",
       "      <td>462647</td>\n",
       "      <td>453748</td>\n",
       "      <td>452563</td>\n",
       "      <td>Amagasaki</td>\n",
       "    </tr>\n",
       "    <tr>\n",
       "      <th>5</th>\n",
       "      <td>314917</td>\n",
       "      <td>318732</td>\n",
       "      <td>311386</td>\n",
       "      <td>299520</td>\n",
       "      <td>287648</td>\n",
       "      <td>Aomori</td>\n",
       "    </tr>\n",
       "    <tr>\n",
       "      <th>...</th>\n",
       "      <td>...</td>\n",
       "      <td>...</td>\n",
       "      <td>...</td>\n",
       "      <td>...</td>\n",
       "      <td>...</td>\n",
       "      <td>...</td>\n",
       "    </tr>\n",
       "    <tr>\n",
       "      <th>154</th>\n",
       "      <td>203933</td>\n",
       "      <td>212761</td>\n",
       "      <td>221220</td>\n",
       "      <td>228186</td>\n",
       "      <td>232922</td>\n",
       "      <td>Yamato</td>\n",
       "    </tr>\n",
       "    <tr>\n",
       "      <th>155</th>\n",
       "      <td>276664</td>\n",
       "      <td>274777</td>\n",
       "      <td>273487</td>\n",
       "      <td>271460</td>\n",
       "      <td>268800</td>\n",
       "      <td>Yao</td>\n",
       "    </tr>\n",
       "    <tr>\n",
       "      <th>156</th>\n",
       "      <td>296623</td>\n",
       "      <td>302102</td>\n",
       "      <td>303845</td>\n",
       "      <td>307766</td>\n",
       "      <td>311031</td>\n",
       "      <td>Yokkaichi</td>\n",
       "    </tr>\n",
       "    <tr>\n",
       "      <th>157</th>\n",
       "      <td>3307136</td>\n",
       "      <td>3426651</td>\n",
       "      <td>3579628</td>\n",
       "      <td>3688773</td>\n",
       "      <td>3724844</td>\n",
       "      <td>Yokohama</td>\n",
       "    </tr>\n",
       "    <tr>\n",
       "      <th>158</th>\n",
       "      <td>432193</td>\n",
       "      <td>428645</td>\n",
       "      <td>426178</td>\n",
       "      <td>418325</td>\n",
       "      <td>406586</td>\n",
       "      <td>Yokosuka</td>\n",
       "    </tr>\n",
       "  </tbody>\n",
       "</table>\n",
       "<p>106 rows × 6 columns</p>\n",
       "</div>"
      ],
      "text/plain": [
       "     pop_1995  pop_2000  pop_2005  pop_2010  pop_2015       City\n",
       "0      206090    212947    220232    223926    225196       Ageo\n",
       "1      287606    293117    291027    290959    293409     Akashi\n",
       "2      331597    336646    333109    323600    315814      Akita\n",
       "3      488586    466187    462647    453748    452563  Amagasaki\n",
       "5      314917    318732    311386    299520    287648     Aomori\n",
       "..        ...       ...       ...       ...       ...        ...\n",
       "154    203933    212761    221220    228186    232922     Yamato\n",
       "155    276664    274777    273487    271460    268800        Yao\n",
       "156    296623    302102    303845    307766    311031  Yokkaichi\n",
       "157   3307136   3426651   3579628   3688773   3724844   Yokohama\n",
       "158    432193    428645    426178    418325    406586   Yokosuka\n",
       "\n",
       "[106 rows x 6 columns]"
      ]
     },
     "execution_count": 344,
     "metadata": {},
     "output_type": "execute_result"
    }
   ],
   "source": [
    "#filter variables\n",
    "newdf.loc[(newdf[\"pop_1995\"] >= 200000) & (newdf[\"pop_2015\"] >= 200000)]"
   ]
  },
  {
   "cell_type": "code",
   "execution_count": 348,
   "id": "98d3d974-19b1-4c27-bf8f-0d0ea169f507",
   "metadata": {},
   "outputs": [
    {
     "data": {
      "text/html": [
       "<div>\n",
       "<style scoped>\n",
       "    .dataframe tbody tr th:only-of-type {\n",
       "        vertical-align: middle;\n",
       "    }\n",
       "\n",
       "    .dataframe tbody tr th {\n",
       "        vertical-align: top;\n",
       "    }\n",
       "\n",
       "    .dataframe thead th {\n",
       "        text-align: right;\n",
       "    }\n",
       "</style>\n",
       "<table border=\"1\" class=\"dataframe\">\n",
       "  <thead>\n",
       "    <tr style=\"text-align: right;\">\n",
       "      <th></th>\n",
       "      <th>pop_2010</th>\n",
       "      <th>pop_2015</th>\n",
       "      <th>City</th>\n",
       "    </tr>\n",
       "  </thead>\n",
       "  <tbody>\n",
       "    <tr>\n",
       "      <th>0</th>\n",
       "      <td>223926</td>\n",
       "      <td>225196</td>\n",
       "      <td>Ageo</td>\n",
       "    </tr>\n",
       "    <tr>\n",
       "      <th>1</th>\n",
       "      <td>290959</td>\n",
       "      <td>293409</td>\n",
       "      <td>Akashi</td>\n",
       "    </tr>\n",
       "    <tr>\n",
       "      <th>2</th>\n",
       "      <td>323600</td>\n",
       "      <td>315814</td>\n",
       "      <td>Akita</td>\n",
       "    </tr>\n",
       "    <tr>\n",
       "      <th>3</th>\n",
       "      <td>453748</td>\n",
       "      <td>452563</td>\n",
       "      <td>Amagasaki</td>\n",
       "    </tr>\n",
       "    <tr>\n",
       "      <th>4</th>\n",
       "      <td>178691</td>\n",
       "      <td>184140</td>\n",
       "      <td>Anjo</td>\n",
       "    </tr>\n",
       "    <tr>\n",
       "      <th>...</th>\n",
       "      <td>...</td>\n",
       "      <td>...</td>\n",
       "      <td>...</td>\n",
       "    </tr>\n",
       "    <tr>\n",
       "      <th>154</th>\n",
       "      <td>228186</td>\n",
       "      <td>232922</td>\n",
       "      <td>Yamato</td>\n",
       "    </tr>\n",
       "    <tr>\n",
       "      <th>155</th>\n",
       "      <td>271460</td>\n",
       "      <td>268800</td>\n",
       "      <td>Yao</td>\n",
       "    </tr>\n",
       "    <tr>\n",
       "      <th>156</th>\n",
       "      <td>307766</td>\n",
       "      <td>311031</td>\n",
       "      <td>Yokkaichi</td>\n",
       "    </tr>\n",
       "    <tr>\n",
       "      <th>157</th>\n",
       "      <td>3688773</td>\n",
       "      <td>3724844</td>\n",
       "      <td>Yokohama</td>\n",
       "    </tr>\n",
       "    <tr>\n",
       "      <th>158</th>\n",
       "      <td>418325</td>\n",
       "      <td>406586</td>\n",
       "      <td>Yokosuka</td>\n",
       "    </tr>\n",
       "  </tbody>\n",
       "</table>\n",
       "<p>159 rows × 3 columns</p>\n",
       "</div>"
      ],
      "text/plain": [
       "     pop_2010  pop_2015       City\n",
       "0      223926    225196       Ageo\n",
       "1      290959    293409     Akashi\n",
       "2      323600    315814      Akita\n",
       "3      453748    452563  Amagasaki\n",
       "4      178691    184140       Anjo\n",
       "..        ...       ...        ...\n",
       "154    228186    232922     Yamato\n",
       "155    271460    268800        Yao\n",
       "156    307766    311031  Yokkaichi\n",
       "157   3688773   3724844   Yokohama\n",
       "158    418325    406586   Yokosuka\n",
       "\n",
       "[159 rows x 3 columns]"
      ]
     },
     "metadata": {},
     "output_type": "display_data"
    }
   ],
   "source": [
    "#filter variables\n",
    "\n",
    "limitedpop = newdf.filter(['pop_2010', 'pop_2015','City'])\n",
    "display(limitedpop)"
   ]
  },
  {
   "cell_type": "code",
   "execution_count": 351,
   "id": "e32ff922-13e3-4ab0-9a0e-f14dba770790",
   "metadata": {},
   "outputs": [
    {
     "data": {
      "text/plain": [
       "<Axes: >"
      ]
     },
     "execution_count": 351,
     "metadata": {},
     "output_type": "execute_result"
    },
    {
     "data": {
      "image/png": "[encoded data removed]",
      "text/plain": [
       "<Figure size 640x480 with 1 Axes>"
      ]
     },
     "metadata": {},
     "output_type": "display_data"
    }
   ],
   "source": [
    "#transformations of variables\n",
    "newdf['pop_2015'].hist()"
   ]
  },
  {
   "cell_type": "code",
   "execution_count": 353,
   "id": "a062ff50-c77a-434f-9346-d201ca5543d0",
   "metadata": {},
   "outputs": [
    {
     "data": {
      "text/plain": [
       "<Axes: >"
      ]
     },
     "execution_count": 353,
     "metadata": {},
     "output_type": "execute_result"
    },
    {
     "data": {
      "image/png": "[encoded data removed]",
      "text/plain": [
       "<Figure size 640x480 with 1 Axes>"
      ]
     },
     "metadata": {},
     "output_type": "display_data"
    }
   ],
   "source": [
    "#Log transform\n",
    "transforms = newdf.copy()\n",
    "transforms['log'] = transforms['pop_2015'].transform(np.log10)\n",
    "transforms['log'].hist()"
   ]
  },
  {
   "cell_type": "markdown",
   "id": "2756a5a6-2da8-47ab-89a9-a8af9273ae2c",
   "metadata": {},
   "source": [
    "## 7. Save data. "
   ]
  },
  {
   "cell_type": "code",
   "execution_count": 359,
   "id": "1c7d91e7-f16b-4e6b-8af0-c52e20888bdb",
   "metadata": {},
   "outputs": [],
   "source": [
    "newdf.to_csv(\"city-size-japan_restricted.csv\", index=False)"
   ]
  },
  {
   "cell_type": "markdown",
   "id": "4312f1e1-9168-48f2-b7de-7523fda28801",
   "metadata": {},
   "source": [
    "## 8. Create a summary statistics table."
   ]
  },
  {
   "cell_type": "code",
   "execution_count": 362,
   "id": "8d847c61-fa3f-46ae-83e0-190f8a792e11",
   "metadata": {},
   "outputs": [
    {
     "data": {
      "text/html": [
       "<div>\n",
       "<style scoped>\n",
       "    .dataframe tbody tr th:only-of-type {\n",
       "        vertical-align: middle;\n",
       "    }\n",
       "\n",
       "    .dataframe tbody tr th {\n",
       "        vertical-align: top;\n",
       "    }\n",
       "\n",
       "    .dataframe thead th {\n",
       "        text-align: right;\n",
       "    }\n",
       "</style>\n",
       "<table border=\"1\" class=\"dataframe\">\n",
       "  <thead>\n",
       "    <tr style=\"text-align: right;\">\n",
       "      <th></th>\n",
       "      <th>count</th>\n",
       "      <th>mean</th>\n",
       "      <th>std</th>\n",
       "      <th>min</th>\n",
       "      <th>25%</th>\n",
       "      <th>50%</th>\n",
       "      <th>75%</th>\n",
       "      <th>max</th>\n",
       "    </tr>\n",
       "  </thead>\n",
       "  <tbody>\n",
       "    <tr>\n",
       "      <th>pop_1995</th>\n",
       "      <td>159.0</td>\n",
       "      <td>450115.07</td>\n",
       "      <td>734292.16</td>\n",
       "      <td>123654.0</td>\n",
       "      <td>187629.0</td>\n",
       "      <td>279551.0</td>\n",
       "      <td>415110.5</td>\n",
       "      <td>7967614.0</td>\n",
       "    </tr>\n",
       "    <tr>\n",
       "      <th>pop_2000</th>\n",
       "      <td>159.0</td>\n",
       "      <td>458032.83</td>\n",
       "      <td>750512.90</td>\n",
       "      <td>132984.0</td>\n",
       "      <td>192688.0</td>\n",
       "      <td>286521.0</td>\n",
       "      <td>418742.0</td>\n",
       "      <td>8134688.0</td>\n",
       "    </tr>\n",
       "    <tr>\n",
       "      <th>pop_2005</th>\n",
       "      <td>159.0</td>\n",
       "      <td>466750.40</td>\n",
       "      <td>780705.64</td>\n",
       "      <td>151240.0</td>\n",
       "      <td>192682.0</td>\n",
       "      <td>288457.0</td>\n",
       "      <td>419682.0</td>\n",
       "      <td>8489653.0</td>\n",
       "    </tr>\n",
       "    <tr>\n",
       "      <th>pop_2010</th>\n",
       "      <td>159.0</td>\n",
       "      <td>474780.45</td>\n",
       "      <td>816755.95</td>\n",
       "      <td>154310.0</td>\n",
       "      <td>196319.0</td>\n",
       "      <td>280416.0</td>\n",
       "      <td>421720.0</td>\n",
       "      <td>8945695.0</td>\n",
       "    </tr>\n",
       "    <tr>\n",
       "      <th>pop_2015</th>\n",
       "      <td>159.0</td>\n",
       "      <td>478614.98</td>\n",
       "      <td>842115.67</td>\n",
       "      <td>152311.0</td>\n",
       "      <td>193434.5</td>\n",
       "      <td>274656.0</td>\n",
       "      <td>423218.0</td>\n",
       "      <td>9272740.0</td>\n",
       "    </tr>\n",
       "  </tbody>\n",
       "</table>\n",
       "</div>"
      ],
      "text/plain": [
       "          count       mean        std       min       25%       50%       75%  \\\n",
       "pop_1995  159.0  450115.07  734292.16  123654.0  187629.0  279551.0  415110.5   \n",
       "pop_2000  159.0  458032.83  750512.90  132984.0  192688.0  286521.0  418742.0   \n",
       "pop_2005  159.0  466750.40  780705.64  151240.0  192682.0  288457.0  419682.0   \n",
       "pop_2010  159.0  474780.45  816755.95  154310.0  196319.0  280416.0  421720.0   \n",
       "pop_2015  159.0  478614.98  842115.67  152311.0  193434.5  274656.0  423218.0   \n",
       "\n",
       "                max  \n",
       "pop_1995  7967614.0  \n",
       "pop_2000  8134688.0  \n",
       "pop_2005  8489653.0  \n",
       "pop_2010  8945695.0  \n",
       "pop_2015  9272740.0  "
      ]
     },
     "execution_count": 362,
     "metadata": {},
     "output_type": "execute_result"
    }
   ],
   "source": [
    "np.round(newdf.describe(), 2).T"
   ]
  },
  {
   "cell_type": "markdown",
   "id": "fdc5938c-ac85-4a6c-b2ef-c1946d303ddc",
   "metadata": {},
   "source": [
    "## 9. Create a graph of any type."
   ]
  },
  {
   "cell_type": "code",
   "execution_count": 365,
   "id": "b74781de-e0e2-4133-ac50-ca88ea59a5e2",
   "metadata": {},
   "outputs": [],
   "source": [
    "import matplotlib.pyplot as plt\n",
    "%matplotlib inline\n",
    "import warnings\n",
    "warnings.filterwarnings('ignore')"
   ]
  },
  {
   "cell_type": "code",
   "execution_count": 403,
   "id": "6b69f5a8-9b5a-4340-9ba0-aca1cec395e2",
   "metadata": {},
   "outputs": [
    {
     "data": {
      "image/png": "[encoded data removed]",
      "text/plain": [
       "<Figure size 640x480 with 1 Axes>"
      ]
     },
     "metadata": {},
     "output_type": "display_data"
    }
   ],
   "source": [
    "# creating the line chart\n",
    "#filter the specific cities (Yokohama, Osaka)\n",
    "years = [\"pop_1995\", \"pop_2000\", \"pop_2005\", \"pop_2010\", \"pop_2015\"]\n",
    "selected_cities = newdf[newdf['City'].isin([\"Yokohama\", \"osaka [Osaka]\"])]\n",
    "\n",
    "for _, row in selected_cities.iterrows():\n",
    "    plt.plot(years, row[years], marker='o', label=row['City'])\n",
    "\n",
    "plt.xlabel(\"Year\")\n",
    "plt.ylabel(\"Population\")\n",
    "plt.title(\"Population Trend for Selected Cities (Yokohama and Osaka)\")\n",
    "plt.xticks(range(len(years)), [year.split('_')[1] for year in years])\n",
    "plt.legend()\n",
    "plt.grid(True, linestyle='--', alpha=0.5)\n",
    "plt.show()"
   ]
  },
  {
   "cell_type": "code",
   "execution_count": 1,
   "id": "00fbb0a2-e25e-4096-971f-be07e11cb68a",
   "metadata": {},
   "outputs": [],
   "source": [
    "quit()"
   ]
  }
 ],
 "metadata": {
  "kernelspec": {
   "display_name": "Python 3 (ipykernel)",
   "language": "python",
   "name": "python3"
  },
  "language_info": {
   "codemirror_mode": {
    "name": "ipython",
    "version": 3
   },
   "file_extension": ".py",
   "mimetype": "text/x-python",
   "name": "python",
   "nbconvert_exporter": "python",
   "pygments_lexer": "ipython3",
   "version": "3.12.4"
  }
 },
 "nbformat": 4,
 "nbformat_minor": 5
}
